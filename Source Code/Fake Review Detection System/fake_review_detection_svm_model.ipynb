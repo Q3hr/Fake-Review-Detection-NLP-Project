{
  "cells": [
    {
      "cell_type": "markdown",
      "metadata": {
        "colab_type": "text",
        "id": "view-in-github"
      },
      "source": [
        "<a href=\"https://colab.research.google.com/github/hruthiksiva/fake-review-detection-nlp-project/blob/main/fake_review_detection_svm_model.ipynb\" target=\"_parent\"><img src=\"https://colab.research.google.com/assets/colab-badge.svg\" alt=\"Open In Colab\"/></a>"
      ]
    },
    {
      "cell_type": "code",
      "execution_count": 7,
      "metadata": {
        "colab": {
          "base_uri": "https://localhost:8080/"
        },
        "id": "uWIooE9PNhJa",
        "outputId": "628e58ce-97db-4c3f-a20b-0762b71b6527"
      },
      "outputs": [
        {
          "name": "stderr",
          "output_type": "stream",
          "text": [
            "[nltk_data] Downloading package wordnet to\n",
            "[nltk_data]     C:\\Users\\DELL\\AppData\\Roaming\\nltk_data...\n",
            "[nltk_data]   Package wordnet is already up-to-date!\n"
          ]
        },
        {
          "data": {
            "text/plain": [
              "True"
            ]
          },
          "execution_count": 7,
          "metadata": {},
          "output_type": "execute_result"
        }
      ],
      "source": [
        "import nltk\n",
        "nltk.download(\"wordnet\")"
      ]
    },
    {
      "cell_type": "code",
      "execution_count": 8,
      "metadata": {
        "id": "M0X-FNzLIsjS"
      },
      "outputs": [],
      "source": [
        "import pandas as pd # For Data Manipulation & Analysis\n",
        "import numpy as np # For tools used in numerical calculation\n",
        "from scipy.sparse import  hstack # horizontally stack sparse matrices -> for storing data with many zeros\n",
        "import matplotlib.pyplot as plt \n",
        "import seaborn as sns # high-level data visualization library built on top of matplotlib\n",
        "%matplotlib inline \n",
        "import re # For expression checking"
      ]
    },
    {
      "cell_type": "code",
      "execution_count": 9,
      "metadata": {
        "id": "FvVB2BWCI4em"
      },
      "outputs": [],
      "source": [
        "contractions_dict={ # Gives proper form to contradictions\n",
        "    \"ain't\": \"are not\",\"aren't\": \"are not\",\"can't\": \"can not\", \"can't've\": \"can not have\",\n",
        "    \"'cause\": \"because\",\n",
        "    \"could've\": \"could have\",\n",
        "    \"couldn't\": \"could not\",\n",
        "    \"couldn't've\": \"could not have\",\n",
        "    \"didn't\": \"did not\",\n",
        "    \"doesn't\": \"does not\",\n",
        "    \"don't\": \"do not\",\"hadn't\": \"had not\",\n",
        "    \"hadn't've\": \"had not have\",  \"hasn't\": \"has not\",\n",
        "    \"haven't\": \"have not\",  \"he'd\": \"he would\",\n",
        "    \"he'd've\": \"he would have\",\n",
        "    \"he'll\": \"he will\",\n",
        "    \"he'll've\": \"he will have\",\n",
        "    \"he's\": \"he is\",\n",
        "    \"how'd\": \"how did\",\n",
        "    \"how're\": \"how are\",\n",
        "    \"how'd'y\": \"how do you\",\n",
        "    \"how'll\": \"how will\",\n",
        "    \"how's\": \"how is\",\n",
        "    \"I'd\": \"I would\",\n",
        "    \"I'd've\": \"I would have\",\n",
        "    \"I'll\": \"I will\",\n",
        "    \"I'll've\": \"I will have\",\n",
        "    \"I'm\": \"I am\",\n",
        "    \"I've\": \"I have\",\n",
        "    \"isn't\": \"is not\",\n",
        "    \"it'd\": \"it would\",\n",
        "    \"it'd've\": \"it would have\",\n",
        "    \"it'll\": \"it will\",\n",
        "    \"it'll've\": \"it will have\",\n",
        "    \"it's\": \"it is\",\n",
        "    \"let's\": \"let us\",\n",
        "    \"ma'am\": \"madam\",\n",
        "    \"mayn't\": \"may not\",\n",
        "    \"might've\": \"might have\",\n",
        "    \"mightn't\": \"might not\",\n",
        "    \"mightn't've\": \"might not have\",\n",
        "    \"must've\": \"must have\",\n",
        "    \"mustn't\": \"must not\",\n",
        "    \"mustn't've\": \"must not have\",\n",
        "    \"needn't\": \"need not\",\n",
        "    \"needn't've\": \"need not have\",\n",
        "    \"o'clock\": \"of the clock\",  \"oughtn't\": \"ought not\",\n",
        "    \"oughtn't've\": \"ought not have\", \"shan't\": \"shall not\",\n",
        "    \"sha'n't\": \"shall not\",\n",
        "    \"shan't've\": \"shall not have\", \"she'd\": \"she would\",\n",
        "    \"she'd've\": \"she would have\",\n",
        "    \"she'll\": \"she will\", \"she'll've\": \"she will have\",\n",
        "    \"she's\": \"she is\",\n",
        "    \"should've\": \"should have\",\"shouldn't\": \"should not\",\n",
        "    \"shouldn't've\": \"should not have\",\n",
        "    \"so've\": \"so have\", \"so's\": \"so is\",\n",
        "    \"that'd\": \"that would\", \"that'd've\": \"that would have\",\n",
        "    \"that's\": \"that is\",\n",
        "    \"there'd\": \"there would\",\n",
        "    \"there'd've\": \"there would have\",\n",
        "    \"there's\": \"there is\",\n",
        "    \"they'd\": \"they would\",\n",
        "    \"they'd've\": \"they would have\",\n",
        "    \"they'll\": \"they will\",\n",
        "    \"they'll've\": \"they will have\",\n",
        "    \"they're\": \"they are\",\n",
        "    \"they've\": \"they have\",\n",
        "    \"to've\": \"to have\",\n",
        "    \"wasn't\": \"was not\",\n",
        "    \"we'd\": \"we would\",\n",
        "    \"we'd've\": \"we would have\",\n",
        "    \"we'll\": \"we will\",\n",
        "    \"we'll've\": \"we will have\",\n",
        "    \"we're\": \"we are\",\n",
        "    \"we've\": \"we have\",\n",
        "    \"weren't\": \"were not\",\n",
        "    \"what'll\": \"what will\",\n",
        "    \"what'll've\": \"what will have\",\n",
        "    \"what're\": \"what are\",\n",
        "    \"what's\": \"what is\",\n",
        "    \"what've\": \"what have\",\n",
        "    \"when's\": \"when is\",\n",
        "    \"when've\": \"when have\",\n",
        "    \"where'd\": \"where did\",\n",
        "    \"where's\": \"where is\",\n",
        "    \"where've\": \"where have\",\n",
        "    \"who'll\": \"who will\",\n",
        "    \"who'll've\": \"who will have\",\n",
        "    \"who's\": \"who is\",\n",
        "    \"who've\": \"who have\",\n",
        "    \"why's\": \"why is\",\n",
        "    \"why've\": \"why have\",\n",
        "    \"will've\": \"will have\",\n",
        "    \"won't\": \"will not\",\n",
        "    \"won't've\": \"will not have\",\n",
        "    \"would've\": \"would have\",\n",
        "    \"wouldn't\": \"would not\",\n",
        "    \"wouldn't've\": \"would not have\",\n",
        "    \"y'all\": \"you all\",\n",
        "    \"y'all'd\": \"you all would\",\n",
        "    \"y'all'd've\": \"you all would have\",\n",
        "    \"y'all're\": \"you all are\",\n",
        "    \"y'all've\": \"you all have\",\n",
        "    \"you'd\": \"you would\",\n",
        "    \"you'd've\": \"you would have\",\n",
        "    \"you'll\": \"you will\",\n",
        "    \"you'll've\": \"you shall have\",\n",
        "    \"you're\": \"you are\",\n",
        "    \"you've\": \"you have\"\n",
        "}"
      ]
    },
    {
      "cell_type": "code",
      "execution_count": 10,
      "metadata": {
        "colab": {
          "base_uri": "https://localhost:8080/",
          "height": 246
        },
        "id": "0Zo6mY7wJCgx",
        "outputId": "474d6510-d707-4008-9720-07c22d9f5709"
      },
      "outputs": [
        {
          "data": {
            "text/html": [
              "<div>\n",
              "<style scoped>\n",
              "    .dataframe tbody tr th:only-of-type {\n",
              "        vertical-align: middle;\n",
              "    }\n",
              "\n",
              "    .dataframe tbody tr th {\n",
              "        vertical-align: top;\n",
              "    }\n",
              "\n",
              "    .dataframe thead th {\n",
              "        text-align: right;\n",
              "    }\n",
              "</style>\n",
              "<table border=\"1\" class=\"dataframe\">\n",
              "  <thead>\n",
              "    <tr style=\"text-align: right;\">\n",
              "      <th></th>\n",
              "      <th>DOC_ID</th>\n",
              "      <th>LABEL</th>\n",
              "      <th>RATING</th>\n",
              "      <th>VERIFIED_PURCHASE</th>\n",
              "      <th>PRODUCT_CATEGORY</th>\n",
              "      <th>PRODUCT_ID</th>\n",
              "      <th>PRODUCT_TITLE</th>\n",
              "      <th>REVIEW_TITLE</th>\n",
              "      <th>REVIEW_TEXT</th>\n",
              "    </tr>\n",
              "  </thead>\n",
              "  <tbody>\n",
              "    <tr>\n",
              "      <th>0</th>\n",
              "      <td>1</td>\n",
              "      <td>__label1__</td>\n",
              "      <td>4</td>\n",
              "      <td>N</td>\n",
              "      <td>PC</td>\n",
              "      <td>B00008NG7N</td>\n",
              "      <td>Targus PAUK10U Ultra Mini USB Keypad, Black</td>\n",
              "      <td>useful</td>\n",
              "      <td>When least you think so, this product will sav...</td>\n",
              "    </tr>\n",
              "    <tr>\n",
              "      <th>1</th>\n",
              "      <td>2</td>\n",
              "      <td>__label1__</td>\n",
              "      <td>4</td>\n",
              "      <td>Y</td>\n",
              "      <td>Wireless</td>\n",
              "      <td>B00LH0Y3NM</td>\n",
              "      <td>Note 3 Battery : Stalion Strength Replacement ...</td>\n",
              "      <td>New era for batteries</td>\n",
              "      <td>Lithium batteries are something new introduced...</td>\n",
              "    </tr>\n",
              "    <tr>\n",
              "      <th>2</th>\n",
              "      <td>3</td>\n",
              "      <td>__label1__</td>\n",
              "      <td>3</td>\n",
              "      <td>N</td>\n",
              "      <td>Baby</td>\n",
              "      <td>B000I5UZ1Q</td>\n",
              "      <td>Fisher-Price Papasan Cradle Swing, Starlight</td>\n",
              "      <td>doesn't swing very well.</td>\n",
              "      <td>I purchased this swing for my baby. She is 6 m...</td>\n",
              "    </tr>\n",
              "    <tr>\n",
              "      <th>3</th>\n",
              "      <td>4</td>\n",
              "      <td>__label1__</td>\n",
              "      <td>4</td>\n",
              "      <td>N</td>\n",
              "      <td>Office Products</td>\n",
              "      <td>B003822IRA</td>\n",
              "      <td>Casio MS-80B Standard Function Desktop Calculator</td>\n",
              "      <td>Great computing!</td>\n",
              "      <td>I was looking for an inexpensive desk calcolat...</td>\n",
              "    </tr>\n",
              "    <tr>\n",
              "      <th>4</th>\n",
              "      <td>5</td>\n",
              "      <td>__label1__</td>\n",
              "      <td>4</td>\n",
              "      <td>N</td>\n",
              "      <td>Beauty</td>\n",
              "      <td>B00PWSAXAM</td>\n",
              "      <td>Shine Whitening - Zero Peroxide Teeth Whitenin...</td>\n",
              "      <td>Only use twice a week</td>\n",
              "      <td>I only use it twice a week and the results are...</td>\n",
              "    </tr>\n",
              "  </tbody>\n",
              "</table>\n",
              "</div>"
            ],
            "text/plain": [
              "   DOC_ID       LABEL  RATING VERIFIED_PURCHASE PRODUCT_CATEGORY  PRODUCT_ID  \\\n",
              "0       1  __label1__       4                 N               PC  B00008NG7N   \n",
              "1       2  __label1__       4                 Y         Wireless  B00LH0Y3NM   \n",
              "2       3  __label1__       3                 N             Baby  B000I5UZ1Q   \n",
              "3       4  __label1__       4                 N  Office Products  B003822IRA   \n",
              "4       5  __label1__       4                 N           Beauty  B00PWSAXAM   \n",
              "\n",
              "                                       PRODUCT_TITLE  \\\n",
              "0        Targus PAUK10U Ultra Mini USB Keypad, Black   \n",
              "1  Note 3 Battery : Stalion Strength Replacement ...   \n",
              "2       Fisher-Price Papasan Cradle Swing, Starlight   \n",
              "3  Casio MS-80B Standard Function Desktop Calculator   \n",
              "4  Shine Whitening - Zero Peroxide Teeth Whitenin...   \n",
              "\n",
              "               REVIEW_TITLE                                        REVIEW_TEXT  \n",
              "0                    useful  When least you think so, this product will sav...  \n",
              "1     New era for batteries  Lithium batteries are something new introduced...  \n",
              "2  doesn't swing very well.  I purchased this swing for my baby. She is 6 m...  \n",
              "3          Great computing!  I was looking for an inexpensive desk calcolat...  \n",
              "4     Only use twice a week  I only use it twice a week and the results are...  "
            ]
          },
          "execution_count": 10,
          "metadata": {},
          "output_type": "execute_result"
        }
      ],
      "source": [
        "url=\"https://raw.githubusercontent.com/hruthiksiva/fake-review-detection-nlp-project/main/selected.txt\" # Used to access dataset\n",
        "df=pd.read_csv(url,delimiter=\"\\t\") # \\t -> separate columns by tabs instead of commas\n",
        "df.head() #  Displays the first 5 rows of the DataFrame df"
      ]
    },
    {
      "cell_type": "code",
      "execution_count": 11,
      "metadata": {
        "id": "3fDCd__GJKNi"
      },
      "outputs": [],
      "source": [
        "df[\"LABEL\"]=df[\"LABEL\"].replace(['__label2__','__label1__'],['0','1']) # Converts text into numerics for easier processing\n",
        "df[\"LABEL\"]=df[\"LABEL\"].astype(np.float32) # Ensures numeric consistincy in dataset\n",
        "dfs=df[[\"REVIEW_TEXT\",\"LABEL\",\"PRODUCT_CATEGORY\",\"VERIFIED_PURCHASE\",\"RATING\",\"REVIEW_TITLE\"]] # Creating a new df with new cols\n",
        "dfs = dfs.rename(columns={'REVIEW_TEXT': 'reviews',\"LABEL\":\"label\",\"VERIFIED_PURCHASE\":\"verify\",\"REVIEW_TITLE\":\"title\"}) # Simplifying names"
      ]
    },
    {
      "cell_type": "code",
      "execution_count": 12,
      "metadata": {
        "colab": {
          "base_uri": "https://localhost:8080/",
          "height": 196
        },
        "id": "KmJ--UB_JRN6",
        "outputId": "3234da5e-c59f-4726-870e-0c2add2adb2b"
      },
      "outputs": [
        {
          "data": {
            "text/html": [
              "<div>\n",
              "<style scoped>\n",
              "    .dataframe tbody tr th:only-of-type {\n",
              "        vertical-align: middle;\n",
              "    }\n",
              "\n",
              "    .dataframe tbody tr th {\n",
              "        vertical-align: top;\n",
              "    }\n",
              "\n",
              "    .dataframe thead th {\n",
              "        text-align: right;\n",
              "    }\n",
              "</style>\n",
              "<table border=\"1\" class=\"dataframe\">\n",
              "  <thead>\n",
              "    <tr style=\"text-align: right;\">\n",
              "      <th></th>\n",
              "      <th>reviews</th>\n",
              "      <th>label</th>\n",
              "      <th>PRODUCT_CATEGORY</th>\n",
              "      <th>verify</th>\n",
              "      <th>RATING</th>\n",
              "      <th>title</th>\n",
              "    </tr>\n",
              "  </thead>\n",
              "  <tbody>\n",
              "    <tr>\n",
              "      <th>0</th>\n",
              "      <td>When least you think so, this product will sav...</td>\n",
              "      <td>1.0</td>\n",
              "      <td>PC</td>\n",
              "      <td>N</td>\n",
              "      <td>4</td>\n",
              "      <td>useful</td>\n",
              "    </tr>\n",
              "    <tr>\n",
              "      <th>1</th>\n",
              "      <td>Lithium batteries are something new introduced...</td>\n",
              "      <td>1.0</td>\n",
              "      <td>Wireless</td>\n",
              "      <td>Y</td>\n",
              "      <td>4</td>\n",
              "      <td>New era for batteries</td>\n",
              "    </tr>\n",
              "    <tr>\n",
              "      <th>2</th>\n",
              "      <td>I purchased this swing for my baby. She is 6 m...</td>\n",
              "      <td>1.0</td>\n",
              "      <td>Baby</td>\n",
              "      <td>N</td>\n",
              "      <td>3</td>\n",
              "      <td>doesn't swing very well.</td>\n",
              "    </tr>\n",
              "    <tr>\n",
              "      <th>3</th>\n",
              "      <td>I was looking for an inexpensive desk calcolat...</td>\n",
              "      <td>1.0</td>\n",
              "      <td>Office Products</td>\n",
              "      <td>N</td>\n",
              "      <td>4</td>\n",
              "      <td>Great computing!</td>\n",
              "    </tr>\n",
              "    <tr>\n",
              "      <th>4</th>\n",
              "      <td>I only use it twice a week and the results are...</td>\n",
              "      <td>1.0</td>\n",
              "      <td>Beauty</td>\n",
              "      <td>N</td>\n",
              "      <td>4</td>\n",
              "      <td>Only use twice a week</td>\n",
              "    </tr>\n",
              "  </tbody>\n",
              "</table>\n",
              "</div>"
            ],
            "text/plain": [
              "                                             reviews  label PRODUCT_CATEGORY  \\\n",
              "0  When least you think so, this product will sav...    1.0               PC   \n",
              "1  Lithium batteries are something new introduced...    1.0         Wireless   \n",
              "2  I purchased this swing for my baby. She is 6 m...    1.0             Baby   \n",
              "3  I was looking for an inexpensive desk calcolat...    1.0  Office Products   \n",
              "4  I only use it twice a week and the results are...    1.0           Beauty   \n",
              "\n",
              "  verify  RATING                     title  \n",
              "0      N       4                    useful  \n",
              "1      Y       4     New era for batteries  \n",
              "2      N       3  doesn't swing very well.  \n",
              "3      N       4          Great computing!  \n",
              "4      N       4     Only use twice a week  "
            ]
          },
          "execution_count": 12,
          "metadata": {},
          "output_type": "execute_result"
        }
      ],
      "source": [
        "dfs.head()"
      ]
    },
    {
      "cell_type": "code",
      "execution_count": 30,
      "metadata": {
        "colab": {
          "base_uri": "https://localhost:8080/"
        },
        "id": "klROvXbBJTFe",
        "outputId": "67d08b15-f745-4ee1-fdf2-0d3668919ea8"
      },
      "outputs": [
        {
          "data": {
            "text/plain": [
              "RATING\n",
              "5    12210\n",
              "4     3973\n",
              "3     1868\n",
              "1     1757\n",
              "2     1192\n",
              "Name: count, dtype: int64"
            ]
          },
          "execution_count": 30,
          "metadata": {},
          "output_type": "execute_result"
        }
      ],
      "source": [
        "dfs[\"verify\"]=dfs[\"verify\"].replace(['N','Y'],['0','1']) # Same step as above\n",
        "dfs[\"RATING\"].value_counts() # The ratings are displayed with reference to how many reviews have them"
      ]
    },
    {
      "cell_type": "code",
      "execution_count": 14,
      "metadata": {
        "colab": {
          "base_uri": "https://localhost:8080/"
        },
        "id": "t5jC2FrTJdCK",
        "outputId": "71e86fc0-8ada-4cc7-cfdd-fc48fb901736"
      },
      "outputs": [
        {
          "name": "stdout",
          "output_type": "stream",
          "text": [
            "<class 'pandas.core.frame.DataFrame'>\n",
            "RangeIndex: 21000 entries, 0 to 20999\n",
            "Data columns (total 6 columns):\n",
            " #   Column            Non-Null Count  Dtype  \n",
            "---  ------            --------------  -----  \n",
            " 0   reviews           21000 non-null  object \n",
            " 1   label             21000 non-null  float32\n",
            " 2   PRODUCT_CATEGORY  21000 non-null  object \n",
            " 3   verify            21000 non-null  object \n",
            " 4   RATING            21000 non-null  int64  \n",
            " 5   title             21000 non-null  object \n",
            "dtypes: float32(1), int64(1), object(4)\n",
            "memory usage: 902.5+ KB\n"
          ]
        }
      ],
      "source": [
        "dfs.info() # Summary of dataframe -> total/non missing vals"
      ]
    },
    {
      "cell_type": "code",
      "execution_count": 15,
      "metadata": {
        "colab": {
          "base_uri": "https://localhost:8080/"
        },
        "id": "WxlbdBZpJeY_",
        "outputId": "6e27fe19-3494-4a5e-fec6-a50ea4d83868"
      },
      "outputs": [],
      "source": [
        "def preprocess_text(sen):\n",
        "    # Removing html tags\n",
        "    sentence = remove_tags(sen)\n",
        "\n",
        "    # Remove punctuations and numbers\n",
        "    sentence = re.sub('[^a-zA-Z]', ' ', sentence)\n",
        "\n",
        "    # Single character removal\n",
        "    sentence = re.sub(r\"\\s+[a-zA-Z]\\s+\", ' ', sentence)\n",
        "\n",
        "    # Removing multiple spaces\n",
        "    sentence = re.sub(r'\\s+', ' ', sentence)\n",
        "\n",
        "    return sentence\n",
        "TAG_RE = re.compile(r'<[^>]+>') # expression to match html tags\n",
        "\n",
        "def remove_tags(text):\n",
        "    return TAG_RE.sub('', text) # Remove html tags by adding a empty string in place\n",
        "           \n",
        "from nlppreprocess import NLP\n",
        "NLP=NLP\n",
        "obj=NLP(remove_stopwords=True,remove_numbers=True,replace_words=True,lemmatize=True, # Removes common words, numbers, contrdictions -> replace them & words are converted into base form\n",
        "    lemmatize_method='wordnet')\n",
        "contractions_re = re.compile('(%s)' % '|'.join(contractions_dict.keys())) # Matches any of the contradiction keys\n",
        "def expand_contractions(s, contractions_dict=contractions_dict): # The function takes in sentences\n",
        "     def replace(match):\n",
        "        return contractions_dict[match.group(0)] # A helper function is used to do so and the expanded sentence is returned\n",
        "     return contractions_re.sub(replace, s) # Applies replace function\n",
        "\n",
        "dfs[\"reviews\"]=dfs[\"reviews\"].str.lower() # Converts reviews to lower case\n",
        "for i in range(len(dfs[\"reviews\"])):\n",
        "    dfs.loc[i, \"reviews\"] = expand_contractions(str(dfs.loc[i, \"reviews\"]))\n",
        " # each review is converted into a string and contradictions are expanded\n",
        "dfs[\"reviews\"]=dfs[\"reviews\"].apply(preprocess_text) # Removes HTML tags, non-alphabetic characters, single characters, and extra spaces\n",
        "dfs[\"reviews\"]=dfs[\"reviews\"].apply(remove_tags) # Ensures that the HTML tags are removed\n",
        "dfs[\"reviews\"]=dfs[\"reviews\"].apply(obj.process) # removes stopwords, numbers, replace words, and lemmatize the text."
      ]
    },
    {
      "cell_type": "code",
      "execution_count": 16,
      "metadata": {
        "id": "oJPKxFbYKE-U"
      },
      "outputs": [],
      "source": [
        "dfs[\"len_review\"]=dfs[\"reviews\"].apply(lambda x :len(x.split())) # A new column -> len_reviews is created and it stores len of reviews"
      ]
    },
    {
      "cell_type": "code",
      "execution_count": 17,
      "metadata": {
        "colab": {
          "base_uri": "https://localhost:8080/"
        },
        "id": "QIsASheSLyvV",
        "outputId": "8ee2b0d4-f44c-43ca-abdc-cd423c0bcc8a"
      },
      "outputs": [
        {
          "name": "stdout",
          "output_type": "stream",
          "text": [
            "1732\n"
          ]
        }
      ],
      "source": [
        "c=0\n",
        "for i in dfs[\"len_review\"]: # How many views exceeded 100 words\n",
        "    if 100<i:\n",
        "      c+=1\n",
        "print(c)"
      ]
    },
    {
      "cell_type": "code",
      "execution_count": 18,
      "metadata": {
        "colab": {
          "base_uri": "https://localhost:8080/"
        },
        "id": "u4DzZHgsLzUH",
        "outputId": "34da92df-936e-4e56-d892-4b6ba262fbdc"
      },
      "outputs": [
        {
          "name": "stdout",
          "output_type": "stream",
          "text": [
            "<class 'pandas.core.frame.DataFrame'>\n",
            "RangeIndex: 21000 entries, 0 to 20999\n",
            "Data columns (total 7 columns):\n",
            " #   Column            Non-Null Count  Dtype  \n",
            "---  ------            --------------  -----  \n",
            " 0   reviews           21000 non-null  object \n",
            " 1   label             21000 non-null  float32\n",
            " 2   PRODUCT_CATEGORY  21000 non-null  object \n",
            " 3   verify            21000 non-null  object \n",
            " 4   RATING            21000 non-null  int64  \n",
            " 5   title             21000 non-null  object \n",
            " 6   len_review        21000 non-null  int64  \n",
            "dtypes: float32(1), int64(2), object(4)\n",
            "memory usage: 1.0+ MB\n"
          ]
        }
      ],
      "source": [
        "dfs.info()"
      ]
    },
    {
      "cell_type": "code",
      "execution_count": 19,
      "metadata": {
        "colab": {
          "base_uri": "https://localhost:8080/"
        },
        "id": "Dy_Hq6RWL1L3",
        "outputId": "ef094e43-7f03-4918-c5c6-94e06fc473c8"
      },
      "outputs": [
        {
          "name": "stdout",
          "output_type": "stream",
          "text": [
            "<class 'pandas.core.frame.DataFrame'>\n",
            "RangeIndex: 19242 entries, 0 to 19241\n",
            "Data columns (total 7 columns):\n",
            " #   Column            Non-Null Count  Dtype  \n",
            "---  ------            --------------  -----  \n",
            " 0   reviews           19242 non-null  object \n",
            " 1   label             19242 non-null  float32\n",
            " 2   PRODUCT_CATEGORY  19242 non-null  object \n",
            " 3   verify            19242 non-null  object \n",
            " 4   RATING            19242 non-null  int64  \n",
            " 5   title             19242 non-null  object \n",
            " 6   len_review        19242 non-null  int64  \n",
            "dtypes: float32(1), int64(2), object(4)\n",
            "memory usage: 977.3+ KB\n"
          ]
        }
      ],
      "source": [
        "dfse = dfs[dfs[\"len_review\"] < 100]\n",
        "dfse.reset_index(drop=True, inplace=True) # first -> new index & second -> Ensures new index isnt added as a new column and assigns te back to the df\n",
        "\n",
        "# Use .loc to update the 'label' column safely\n",
        "dfse.loc[:, \"label\"] = dfse[\"label\"].astype(np.int64)\n",
        "\n",
        "dfse.info()\n"
      ]
    },
    {
      "cell_type": "code",
      "execution_count": 20,
      "metadata": {
        "id": "CZyI_w6gMAs0"
      },
      "outputs": [],
      "source": [
        "from sklearn import model_selection # For spliting data into training sets\n",
        "from sklearn.feature_extraction.text import TfidfVectorizer # Used to convert a collection of text documents into a matrix of TF-IDF (Term Frequency-Inverse Document Frequency)\n",
        "from sklearn import  naive_bayes ,svm # For text classification \n",
        "from sklearn.metrics import accuracy_score # Used to calculate accuracy of the model\n",
        "import scipy as sp # Used for specific and technical computing"
      ]
    },
    {
      "cell_type": "code",
      "execution_count": 21,
      "metadata": {
        "id": "x3h-5imBRbz2"
      },
      "outputs": [],
      "source": [
        "Train_X, Test_X, Train_Y, Test_Y = model_selection.train_test_split(dfse[[\"reviews\",\"title\",\"verify\"]],dfse[\"label\"],test_size=0.2) # 80 of the data is used for training "
      ]
    },
    {
      "cell_type": "code",
      "execution_count": 22,
      "metadata": {
        "id": "ZOPWjrW7MLhC"
      },
      "outputs": [],
      "source": [
        "Tfidf_vect = TfidfVectorizer(max_features=5000,ngram_range=(2,2)) # A vector used to convert text document into a matrix of TF-IDF features/top 5000 features will be kept/range when tokenizing -> pair of words\n",
        "Trained_Tfidf_vect = Tfidf_vect.fit(Train_X[\"reviews\"].values) # fit -> analyzes training set and builds vocabulary and IDF score\n",
        "\n",
        "Train_X_Tfidf = Trained_Tfidf_vect.transform(Train_X[\"reviews\"].values) # transform -> make the matrix based on vocabulary\n",
        "Test_X_Tfidf = Trained_Tfidf_vect.transform(Test_X[\"reviews\"].values) # same for test data"
      ]
    },
    {
      "cell_type": "code",
      "execution_count": 23,
      "metadata": {
        "colab": {
          "base_uri": "https://localhost:8080/"
        },
        "id": "boowdf0GMMUU",
        "outputId": "99e63875-3929-4597-a2c6-5b6f85fc750d"
      },
      "outputs": [
        {
          "name": "stdout",
          "output_type": "stream",
          "text": [
            "(15393,) \n",
            "\n"
          ]
        }
      ],
      "source": [
        "print (Train_X['reviews'].shape, '\\n') # The number of rows and cols of reviews "
      ]
    },
    {
      "cell_type": "code",
      "execution_count": 24,
      "metadata": {
        "colab": {
          "base_uri": "https://localhost:8080/"
        },
        "id": "Ky4309z-MPdb",
        "outputId": "8476b50b-34aa-48a4-ec24-d289bede7274"
      },
      "outputs": [
        {
          "name": "stdout",
          "output_type": "stream",
          "text": [
            "sample vp column: [['1'], ['0'], ['0'], ['0']]\n",
            "(15393, 1)\n"
          ]
        }
      ],
      "source": [
        "Train_VP_Column = [ [vp] for vp in Train_X[\"verify\"].values ] # extracts values from verify\n",
        "print (\"sample vp column:\", Train_VP_Column[:4])\n",
        "Train_VP_Column = np.array(Train_VP_Column) # Convert into array to handle more efficiently\n",
        "print (Train_VP_Column.shape)"
      ]
    },
    {
      "cell_type": "code",
      "execution_count": 25,
      "metadata": {
        "colab": {
          "base_uri": "https://localhost:8080/"
        },
        "id": "yHOCvIeXMP_D",
        "outputId": "d2be224a-4f44-4c58-f9a9-396fe2d8b971"
      },
      "outputs": [
        {
          "name": "stdout",
          "output_type": "stream",
          "text": [
            "(15393, 5001)\n"
          ]
        }
      ],
      "source": [
        "New_Train_X_Tfidf = sp.sparse.hstack((Train_X_Tfidf,Train_VP_Column.astype(float)))  # adding \"VERIFIED_PURCHASE\" to the Input and horizontally stack sparse matrices\n",
        "print (New_Train_X_Tfidf.shape)"
      ]
    },
    {
      "cell_type": "code",
      "execution_count": 26,
      "metadata": {
        "colab": {
          "base_uri": "https://localhost:8080/"
        },
        "id": "gNsMU9hTUY2n",
        "outputId": "94fa2409-fda4-463c-c209-0927745f675d"
      },
      "outputs": [
        {
          "name": "stdout",
          "output_type": "stream",
          "text": [
            "(3849, 5000)\n",
            "(3849, 1)\n"
          ]
        }
      ],
      "source": [
        "print(Test_X_Tfidf.shape)\n",
        "Test_VP_Column = [[vp] for vp in Test_X[\"verify\"].values]  # Create the verification column for test data\n",
        "Test_VP_Column = np.array(Test_VP_Column)  # Convert it to a numpy array\n",
        "print(Test_VP_Column.shape)  # Print the shape\n"
      ]
    },
    {
      "cell_type": "code",
      "execution_count": 27,
      "metadata": {
        "id": "Rd-VTO2xMRpf"
      },
      "outputs": [],
      "source": [
        "Test_VP_Column = [ [vp] for vp in Test_X[\"verify\"].values ] \n",
        "Test_VP_Column = np.array(Test_VP_Column)\n",
        "New_Test_X_Tfidf = hstack((Test_X_Tfidf, Test_VP_Column.astype(float)))"
      ]
    },
    {
      "cell_type": "code",
      "execution_count": 28,
      "metadata": {
        "colab": {
          "base_uri": "https://localhost:8080/"
        },
        "id": "AwJ3lZCUMT1C",
        "outputId": "71f42b55-42c2-4afd-a329-33de9ff307ef"
      },
      "outputs": [
        {
          "name": "stdout",
          "output_type": "stream",
          "text": [
            "SVM Accuracy Score: 80.35853468433359\n"
          ]
        }
      ],
      "source": [
        "svmmodel= svm.SVC(C=1.0, kernel='linear', degree=3, gamma='auto') # Smaller c -> simpler model, we are using linear kernel -> works on linear data, used when non-linear, specifies kernel cooeficient\n",
        "svmmodel.fit(New_Train_X_Tfidf, Train_Y)\n",
        "\n",
        "predictions_SVM = svmmodel.predict(New_Test_X_Tfidf)\n",
        "print(\"SVM Accuracy Score:\", accuracy_score(predictions_SVM, Test_Y)*100)"
      ]
    },
    {
      "cell_type": "code",
      "execution_count": 29,
      "metadata": {
        "id": "tl12W5QEMg7T"
      },
      "outputs": [],
      "source": [
        "import pickle\n",
        "filename = 'svmmodelp.sav'\n",
        "pickle.dump(svmmodel, open(filename, 'wb'))"
      ]
    },
    {
      "cell_type": "code",
      "execution_count": null,
      "metadata": {
        "id": "N9QmaUHoKKzg"
      },
      "outputs": [],
      "source": []
    }
  ],
  "metadata": {
    "colab": {
      "authorship_tag": "ABX9TyPNVExr4iju8IHgen5IJhfu",
      "include_colab_link": true,
      "name": "fake-review-detection.ipynb",
      "provenance": []
    },
    "kernelspec": {
      "display_name": "Python 3",
      "name": "python3"
    },
    "language_info": {
      "codemirror_mode": {
        "name": "ipython",
        "version": 3
      },
      "file_extension": ".py",
      "mimetype": "text/x-python",
      "name": "python",
      "nbconvert_exporter": "python",
      "pygments_lexer": "ipython3",
      "version": "3.13.1"
    }
  },
  "nbformat": 4,
  "nbformat_minor": 0
}
