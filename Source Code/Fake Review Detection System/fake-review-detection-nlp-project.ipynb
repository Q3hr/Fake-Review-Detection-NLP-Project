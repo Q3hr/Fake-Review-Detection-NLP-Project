{
  "cells": [
    {
      "cell_type": "markdown",
      "metadata": {
        "colab_type": "text",
        "id": "view-in-github"
      },
      "source": [
        "<a href=\"https://colab.research.google.com/github/hruthiksiva/fake-review-detection-nlp-project/blob/main/fake-review-detection-nlp-project.ipynb\" target=\"_parent\"><img src=\"https://colab.research.google.com/assets/colab-badge.svg\" alt=\"Open In Colab\"/></a>"
      ]
    },
    {
      "cell_type": "code",
      "execution_count": 1,
      "metadata": {
        "colab": {
          "base_uri": "https://localhost:8080/"
        },
        "id": "uWIooE9PNhJa",
        "outputId": "9beddd1e-d11d-495a-99da-5b9f255446d3"
      },
      "outputs": [
        {
          "name": "stderr",
          "output_type": "stream",
          "text": [
            "[nltk_data] Downloading package wordnet to\n",
            "[nltk_data]     C:\\Users\\DELL\\AppData\\Roaming\\nltk_data...\n",
            "[nltk_data]   Package wordnet is already up-to-date!\n"
          ]
        },
        {
          "data": {
            "text/plain": [
              "True"
            ]
          },
          "execution_count": 1,
          "metadata": {},
          "output_type": "execute_result"
        }
      ],
      "source": [
        "import nltk   # provides tools for text processing, such as tokenization, stemming, lemmatization, and more.\n",
        "nltk.download(\"wordnet\") # It is used in tasks like lemmatization, where words are reduced to their base or root (e.g Running ->run)"
      ]
    },
    {
      "cell_type": "code",
      "execution_count": 2,
      "metadata": {
        "id": "M0X-FNzLIsjS"
      },
      "outputs": [],
      "source": [
        "import pandas as pd #Pandas provides data structures like DataFrame and Series, which are used for handling and analyzing structured data.\n",
        "import numpy as np #NumPy provides support for working with arrays, mathematical functions, and linear algebra.\n",
        "from scipy.sparse import  hstack #hstack is used to horizantly stack sparse matries or array\n",
        "import matplotlib.pyplot as plt # library used for creating static, interactive, and animated visualizations in Python.\n",
        "import seaborn as sns #Seaborn makes it easier to generate visually appealing and informative plots for complex datasets.\n",
        "%matplotlib inline \n",
        "import re # pattern matching and test preprocessing "
      ]
    },
    {
      "cell_type": "code",
      "execution_count": 3,
      "metadata": {
        "id": "FvVB2BWCI4em"
      },
      "outputs": [],
      "source": [
        "contractions_dict={\n",
        "    \"ain't\": \"are not\",\"aren't\": \"are not\",\"can't\": \"can not\", \"can't've\": \"can not have\",\n",
        "    \"'cause\": \"because\",\n",
        "    \"could've\": \"could have\",\n",
        "    \"couldn't\": \"could not\",\n",
        "    \"couldn't've\": \"could not have\",\n",
        "    \"didn't\": \"did not\",\n",
        "    \"doesn't\": \"does not\",\n",
        "    \"don't\": \"do not\",\"hadn't\": \"had not\",\n",
        "    \"hadn't've\": \"had not have\",  \"hasn't\": \"has not\",\n",
        "    \"haven't\": \"have not\",  \"he'd\": \"he would\",\n",
        "    \"he'd've\": \"he would have\",\n",
        "    \"he'll\": \"he will\",\n",
        "    \"he'll've\": \"he will have\",\n",
        "    \"he's\": \"he is\",\n",
        "    \"how'd\": \"how did\",\n",
        "    \"how're\": \"how are\",\n",
        "    \"how'd'y\": \"how do you\",\n",
        "    \"how'll\": \"how will\",\n",
        "    \"how's\": \"how is\",\n",
        "    \"I'd\": \"I would\",\n",
        "    \"I'd've\": \"I would have\",\n",
        "    \"I'll\": \"I will\",\n",
        "    \"I'll've\": \"I will have\",\n",
        "    \"I'm\": \"I am\",\n",
        "    \"I've\": \"I have\",\n",
        "    \"isn't\": \"is not\",\n",
        "    \"it'd\": \"it would\",\n",
        "    \"it'd've\": \"it would have\",\n",
        "    \"it'll\": \"it will\",\n",
        "    \"it'll've\": \"it will have\",\n",
        "    \"it's\": \"it is\",\n",
        "    \"let's\": \"let us\",\n",
        "    \"ma'am\": \"madam\",\n",
        "    \"mayn't\": \"may not\",\n",
        "    \"might've\": \"might have\",\n",
        "    \"mightn't\": \"might not\",\n",
        "    \"mightn't've\": \"might not have\",\n",
        "    \"must've\": \"must have\",\n",
        "    \"mustn't\": \"must not\",\n",
        "    \"mustn't've\": \"must not have\",\n",
        "    \"needn't\": \"need not\",\n",
        "    \"needn't've\": \"need not have\",\n",
        "    \"o'clock\": \"of the clock\",  \"oughtn't\": \"ought not\",\n",
        "    \"oughtn't've\": \"ought not have\", \"shan't\": \"shall not\",\n",
        "    \"sha'n't\": \"shall not\",\n",
        "    \"shan't've\": \"shall not have\", \"she'd\": \"she would\",\n",
        "    \"she'd've\": \"she would have\",\n",
        "    \"she'll\": \"she will\", \"she'll've\": \"she will have\",\n",
        "    \"she's\": \"she is\",\n",
        "    \"should've\": \"should have\",\"shouldn't\": \"should not\",\n",
        "    \"shouldn't've\": \"should not have\",\n",
        "    \"so've\": \"so have\", \"so's\": \"so is\",\n",
        "    \"that'd\": \"that would\", \"that'd've\": \"that would have\",\n",
        "    \"that's\": \"that is\",\n",
        "    \"there'd\": \"there would\",\n",
        "    \"there'd've\": \"there would have\",\n",
        "    \"there's\": \"there is\",\n",
        "    \"they'd\": \"they would\",\n",
        "    \"they'd've\": \"they would have\",\n",
        "    \"they'll\": \"they will\",\n",
        "    \"they'll've\": \"they will have\",\n",
        "    \"they're\": \"they are\",\n",
        "    \"they've\": \"they have\",\n",
        "    \"to've\": \"to have\",\n",
        "    \"wasn't\": \"was not\",\n",
        "    \"we'd\": \"we would\",\n",
        "    \"we'd've\": \"we would have\",\n",
        "    \"we'll\": \"we will\",\n",
        "    \"we'll've\": \"we will have\",\n",
        "    \"we're\": \"we are\",\n",
        "    \"we've\": \"we have\",\n",
        "    \"weren't\": \"were not\",\n",
        "    \"what'll\": \"what will\",\n",
        "    \"what'll've\": \"what will have\",\n",
        "    \"what're\": \"what are\",\n",
        "    \"what's\": \"what is\",\n",
        "    \"what've\": \"what have\",\n",
        "    \"when's\": \"when is\",\n",
        "    \"when've\": \"when have\",\n",
        "    \"where'd\": \"where did\",\n",
        "    \"where's\": \"where is\",\n",
        "    \"where've\": \"where have\",\n",
        "    \"who'll\": \"who will\",\n",
        "    \"who'll've\": \"who will have\",\n",
        "    \"who's\": \"who is\",\n",
        "    \"who've\": \"who have\",\n",
        "    \"why's\": \"why is\",\n",
        "    \"why've\": \"why have\",\n",
        "    \"will've\": \"will have\",\n",
        "    \"won't\": \"will not\",\n",
        "    \"won't've\": \"will not have\",\n",
        "    \"would've\": \"would have\",\n",
        "    \"wouldn't\": \"would not\",\n",
        "    \"wouldn't've\": \"would not have\",\n",
        "    \"y'all\": \"you all\",\n",
        "    \"y'all'd\": \"you all would\",\n",
        "    \"y'all'd've\": \"you all would have\",\n",
        "    \"y'all're\": \"you all are\",\n",
        "    \"y'all've\": \"you all have\",\n",
        "    \"you'd\": \"you would\",\n",
        "    \"you'd've\": \"you would have\",\n",
        "    \"you'll\": \"you will\",\n",
        "    \"you'll've\": \"you shall have\",\n",
        "    \"you're\": \"you are\",\n",
        "    \"you've\": \"you have\"\n",
        "}"
      ]
    },
    {
      "cell_type": "code",
      "execution_count": 4,
      "metadata": {
        "colab": {
          "base_uri": "https://localhost:8080/",
          "height": 246
        },
        "id": "0Zo6mY7wJCgx",
        "outputId": "17ef31c5-baf2-4162-f179-ef20d9a2f8f7"
      },
      "outputs": [
        {
          "data": {
            "text/html": [
              "<div>\n",
              "<style scoped>\n",
              "    .dataframe tbody tr th:only-of-type {\n",
              "        vertical-align: middle;\n",
              "    }\n",
              "\n",
              "    .dataframe tbody tr th {\n",
              "        vertical-align: top;\n",
              "    }\n",
              "\n",
              "    .dataframe thead th {\n",
              "        text-align: right;\n",
              "    }\n",
              "</style>\n",
              "<table border=\"1\" class=\"dataframe\">\n",
              "  <thead>\n",
              "    <tr style=\"text-align: right;\">\n",
              "      <th></th>\n",
              "      <th>DOC_ID</th>\n",
              "      <th>LABEL</th>\n",
              "      <th>RATING</th>\n",
              "      <th>VERIFIED_PURCHASE</th>\n",
              "      <th>PRODUCT_CATEGORY</th>\n",
              "      <th>PRODUCT_ID</th>\n",
              "      <th>PRODUCT_TITLE</th>\n",
              "      <th>REVIEW_TITLE</th>\n",
              "      <th>REVIEW_TEXT</th>\n",
              "    </tr>\n",
              "  </thead>\n",
              "  <tbody>\n",
              "    <tr>\n",
              "      <th>0</th>\n",
              "      <td>1</td>\n",
              "      <td>__label1__</td>\n",
              "      <td>4</td>\n",
              "      <td>N</td>\n",
              "      <td>PC</td>\n",
              "      <td>B00008NG7N</td>\n",
              "      <td>Targus PAUK10U Ultra Mini USB Keypad, Black</td>\n",
              "      <td>useful</td>\n",
              "      <td>When least you think so, this product will sav...</td>\n",
              "    </tr>\n",
              "    <tr>\n",
              "      <th>1</th>\n",
              "      <td>2</td>\n",
              "      <td>__label1__</td>\n",
              "      <td>4</td>\n",
              "      <td>Y</td>\n",
              "      <td>Wireless</td>\n",
              "      <td>B00LH0Y3NM</td>\n",
              "      <td>Note 3 Battery : Stalion Strength Replacement ...</td>\n",
              "      <td>New era for batteries</td>\n",
              "      <td>Lithium batteries are something new introduced...</td>\n",
              "    </tr>\n",
              "    <tr>\n",
              "      <th>2</th>\n",
              "      <td>3</td>\n",
              "      <td>__label1__</td>\n",
              "      <td>3</td>\n",
              "      <td>N</td>\n",
              "      <td>Baby</td>\n",
              "      <td>B000I5UZ1Q</td>\n",
              "      <td>Fisher-Price Papasan Cradle Swing, Starlight</td>\n",
              "      <td>doesn't swing very well.</td>\n",
              "      <td>I purchased this swing for my baby. She is 6 m...</td>\n",
              "    </tr>\n",
              "    <tr>\n",
              "      <th>3</th>\n",
              "      <td>4</td>\n",
              "      <td>__label1__</td>\n",
              "      <td>4</td>\n",
              "      <td>N</td>\n",
              "      <td>Office Products</td>\n",
              "      <td>B003822IRA</td>\n",
              "      <td>Casio MS-80B Standard Function Desktop Calculator</td>\n",
              "      <td>Great computing!</td>\n",
              "      <td>I was looking for an inexpensive desk calcolat...</td>\n",
              "    </tr>\n",
              "    <tr>\n",
              "      <th>4</th>\n",
              "      <td>5</td>\n",
              "      <td>__label1__</td>\n",
              "      <td>4</td>\n",
              "      <td>N</td>\n",
              "      <td>Beauty</td>\n",
              "      <td>B00PWSAXAM</td>\n",
              "      <td>Shine Whitening - Zero Peroxide Teeth Whitenin...</td>\n",
              "      <td>Only use twice a week</td>\n",
              "      <td>I only use it twice a week and the results are...</td>\n",
              "    </tr>\n",
              "  </tbody>\n",
              "</table>\n",
              "</div>"
            ],
            "text/plain": [
              "   DOC_ID       LABEL  RATING VERIFIED_PURCHASE PRODUCT_CATEGORY  PRODUCT_ID  \\\n",
              "0       1  __label1__       4                 N               PC  B00008NG7N   \n",
              "1       2  __label1__       4                 Y         Wireless  B00LH0Y3NM   \n",
              "2       3  __label1__       3                 N             Baby  B000I5UZ1Q   \n",
              "3       4  __label1__       4                 N  Office Products  B003822IRA   \n",
              "4       5  __label1__       4                 N           Beauty  B00PWSAXAM   \n",
              "\n",
              "                                       PRODUCT_TITLE  \\\n",
              "0        Targus PAUK10U Ultra Mini USB Keypad, Black   \n",
              "1  Note 3 Battery : Stalion Strength Replacement ...   \n",
              "2       Fisher-Price Papasan Cradle Swing, Starlight   \n",
              "3  Casio MS-80B Standard Function Desktop Calculator   \n",
              "4  Shine Whitening - Zero Peroxide Teeth Whitenin...   \n",
              "\n",
              "               REVIEW_TITLE                                        REVIEW_TEXT  \n",
              "0                    useful  When least you think so, this product will sav...  \n",
              "1     New era for batteries  Lithium batteries are something new introduced...  \n",
              "2  doesn't swing very well.  I purchased this swing for my baby. She is 6 m...  \n",
              "3          Great computing!  I was looking for an inexpensive desk calcolat...  \n",
              "4     Only use twice a week  I only use it twice a week and the results are...  "
            ]
          },
          "execution_count": 4,
          "metadata": {},
          "output_type": "execute_result"
        }
      ],
      "source": [
        "url=\"https://raw.githubusercontent.com/hruthiksiva/fake-review-detection-nlp-project/main/selected.txt\"\n",
        "df=pd.read_csv(url,delimiter=\"\\t\") #delimiter=\"\\t\" argument specifies that the file is tab-delimited (i.e., columns are separated by tabs rather than commas).\n",
        "df.head()"
      ]
    },
    {
      "cell_type": "code",
      "execution_count": 5,
      "metadata": {
        "id": "3fDCd__GJKNi"
      },
      "outputs": [],
      "source": [
        "df[\"LABEL\"]=df[\"LABEL\"].replace(['__label2__','__label1__'],['0','1']) #'__label2__' is replaced with '0' and '__label1__' is replaced with '1'.\n",
        "df[\"LABEL\"]=df[\"LABEL\"].astype(np.float32) # Covert the lable column from string to the float 32\n",
        "dfs=df[[\"REVIEW_TEXT\",\"LABEL\",\"PRODUCT_CATEGORY\",\"VERIFIED_PURCHASE\",\"RATING\",\"REVIEW_TITLE\"]] # Create a new dataframe with specify columns\n",
        "dfs = dfs.rename(columns={'REVIEW_TEXT': 'reviews',\"LABEL\":\"label\",\"VERIFIED_PURCHASE\":\"verify\",\"REVIEW_TITLE\":\"title\"}) # renamed the columns in context of NLP or model training"
      ]
    },
    {
      "cell_type": "code",
      "execution_count": 6,
      "metadata": {
        "colab": {
          "base_uri": "https://localhost:8080/",
          "height": 196
        },
        "id": "KmJ--UB_JRN6",
        "outputId": "798f1e63-8803-4518-c2d4-e73c95e18091"
      },
      "outputs": [
        {
          "data": {
            "text/html": [
              "<div>\n",
              "<style scoped>\n",
              "    .dataframe tbody tr th:only-of-type {\n",
              "        vertical-align: middle;\n",
              "    }\n",
              "\n",
              "    .dataframe tbody tr th {\n",
              "        vertical-align: top;\n",
              "    }\n",
              "\n",
              "    .dataframe thead th {\n",
              "        text-align: right;\n",
              "    }\n",
              "</style>\n",
              "<table border=\"1\" class=\"dataframe\">\n",
              "  <thead>\n",
              "    <tr style=\"text-align: right;\">\n",
              "      <th></th>\n",
              "      <th>reviews</th>\n",
              "      <th>label</th>\n",
              "      <th>PRODUCT_CATEGORY</th>\n",
              "      <th>verify</th>\n",
              "      <th>RATING</th>\n",
              "      <th>title</th>\n",
              "    </tr>\n",
              "  </thead>\n",
              "  <tbody>\n",
              "    <tr>\n",
              "      <th>0</th>\n",
              "      <td>When least you think so, this product will sav...</td>\n",
              "      <td>1.0</td>\n",
              "      <td>PC</td>\n",
              "      <td>N</td>\n",
              "      <td>4</td>\n",
              "      <td>useful</td>\n",
              "    </tr>\n",
              "    <tr>\n",
              "      <th>1</th>\n",
              "      <td>Lithium batteries are something new introduced...</td>\n",
              "      <td>1.0</td>\n",
              "      <td>Wireless</td>\n",
              "      <td>Y</td>\n",
              "      <td>4</td>\n",
              "      <td>New era for batteries</td>\n",
              "    </tr>\n",
              "    <tr>\n",
              "      <th>2</th>\n",
              "      <td>I purchased this swing for my baby. She is 6 m...</td>\n",
              "      <td>1.0</td>\n",
              "      <td>Baby</td>\n",
              "      <td>N</td>\n",
              "      <td>3</td>\n",
              "      <td>doesn't swing very well.</td>\n",
              "    </tr>\n",
              "    <tr>\n",
              "      <th>3</th>\n",
              "      <td>I was looking for an inexpensive desk calcolat...</td>\n",
              "      <td>1.0</td>\n",
              "      <td>Office Products</td>\n",
              "      <td>N</td>\n",
              "      <td>4</td>\n",
              "      <td>Great computing!</td>\n",
              "    </tr>\n",
              "    <tr>\n",
              "      <th>4</th>\n",
              "      <td>I only use it twice a week and the results are...</td>\n",
              "      <td>1.0</td>\n",
              "      <td>Beauty</td>\n",
              "      <td>N</td>\n",
              "      <td>4</td>\n",
              "      <td>Only use twice a week</td>\n",
              "    </tr>\n",
              "  </tbody>\n",
              "</table>\n",
              "</div>"
            ],
            "text/plain": [
              "                                             reviews  label PRODUCT_CATEGORY  \\\n",
              "0  When least you think so, this product will sav...    1.0               PC   \n",
              "1  Lithium batteries are something new introduced...    1.0         Wireless   \n",
              "2  I purchased this swing for my baby. She is 6 m...    1.0             Baby   \n",
              "3  I was looking for an inexpensive desk calcolat...    1.0  Office Products   \n",
              "4  I only use it twice a week and the results are...    1.0           Beauty   \n",
              "\n",
              "  verify  RATING                     title  \n",
              "0      N       4                    useful  \n",
              "1      Y       4     New era for batteries  \n",
              "2      N       3  doesn't swing very well.  \n",
              "3      N       4          Great computing!  \n",
              "4      N       4     Only use twice a week  "
            ]
          },
          "execution_count": 6,
          "metadata": {},
          "output_type": "execute_result"
        }
      ],
      "source": [
        "dfs.head() # Show the updated dataframe"
      ]
    },
    {
      "cell_type": "code",
      "execution_count": 7,
      "metadata": {
        "colab": {
          "base_uri": "https://localhost:8080/"
        },
        "id": "klROvXbBJTFe",
        "outputId": "0a4c22e6-b679-4ef3-bb65-01f538827168"
      },
      "outputs": [
        {
          "data": {
            "text/plain": [
              "RATING\n",
              "5    12210\n",
              "4     3973\n",
              "3     1868\n",
              "1     1757\n",
              "2     1192\n",
              "Name: count, dtype: int64"
            ]
          },
          "execution_count": 7,
          "metadata": {},
          "output_type": "execute_result"
        }
      ],
      "source": [
        "dfs[\"verify\"]=dfs[\"verify\"].replace(['N','Y'],['0','1']) #'N' (Not Verified) is replaced with '0'.'Y' (Verified) is replaced with '1'.\n",
        "dfs[\"RATING\"].value_counts() #The value_counts() method counts the occurrences of each unique value in the RATING column."
      ]
    },
    {
      "cell_type": "code",
      "execution_count": 8,
      "metadata": {
        "colab": {
          "base_uri": "https://localhost:8080/"
        },
        "id": "fxr11h57JtAH",
        "outputId": "3f972ba0-3d60-40a4-dd58-a8959a096aad"
      },
      "outputs": [
        {
          "data": {
            "text/plain": [
              "label\n",
              "1.0    10500\n",
              "0.0    10500\n",
              "Name: count, dtype: int64"
            ]
          },
          "execution_count": 8,
          "metadata": {},
          "output_type": "execute_result"
        }
      ],
      "source": [
        "dfs[\"label\"].value_counts()"
      ]
    },
    {
      "cell_type": "code",
      "execution_count": 9,
      "metadata": {
        "colab": {
          "base_uri": "https://localhost:8080/"
        },
        "id": "t5jC2FrTJdCK",
        "outputId": "2d678616-4db7-43ad-ffb9-37f8bd251c16"
      },
      "outputs": [
        {
          "name": "stdout",
          "output_type": "stream",
          "text": [
            "<class 'pandas.core.frame.DataFrame'>\n",
            "RangeIndex: 21000 entries, 0 to 20999\n",
            "Data columns (total 6 columns):\n",
            " #   Column            Non-Null Count  Dtype  \n",
            "---  ------            --------------  -----  \n",
            " 0   reviews           21000 non-null  object \n",
            " 1   label             21000 non-null  float32\n",
            " 2   PRODUCT_CATEGORY  21000 non-null  object \n",
            " 3   verify            21000 non-null  object \n",
            " 4   RATING            21000 non-null  int64  \n",
            " 5   title             21000 non-null  object \n",
            "dtypes: float32(1), int64(1), object(4)\n",
            "memory usage: 902.5+ KB\n"
          ]
        }
      ],
      "source": [
        "dfs.info()  #concise summary of the DataFrame dfs"
      ]
    },
    {
      "cell_type": "code",
      "execution_count": 10,
      "metadata": {
        "colab": {
          "base_uri": "https://localhost:8080/"
        },
        "id": "WxlbdBZpJeY_",
        "outputId": "91184617-6da4-4d06-c0cf-802371cef14c"
      },
      "outputs": [],
      "source": [
        "def preprocess_text(sen):\n",
        "    # Removing html tags\n",
        "    sentence = remove_tags(sen)\n",
        "\n",
        "    # It removes all characters except alphabets (a-zA-Z), leaving only spaces.\n",
        "    sentence = re.sub('[^a-zA-Z]', ' ', sentence)\n",
        "\n",
        "    # Single character removal\n",
        "    sentence = re.sub(r\"\\s+[a-zA-Z]\\s+\", ' ', sentence)\n",
        "\n",
        "    # Removing multiple spaces\n",
        "    sentence = re.sub(r'\\s+', ' ', sentence)\n",
        "\n",
        "    return sentence\n",
        "TAG_RE = re.compile(r'<[^>]+>')\n",
        "\n",
        "def remove_tags(text):\n",
        "    return TAG_RE.sub('', text) # The remove_tags function uses the regex pattern <[^>]+> to identify and remove all HTML tags from the text.\n",
        "           \n",
        "from nlppreprocess import NLP\n",
        "NLP=NLP\n",
        "\n",
        "# remove_stopwords=True: Removes common stopwords (e.g., \"the\", \"and\").\n",
        "# remove_numbers=True: Removes numbers from the text.\n",
        "# replace_words=True: Replaces certain words based on predefined rules (like contractions).\n",
        "# lemmatize=True: Applies lemmatization to reduce words to their base form.\n",
        "# lemmatize_method='wordnet': Uses WordNet lemmatizer for lemmatization.\n",
        "obj=NLP(remove_stopwords=True,remove_numbers=True,replace_words=True,lemmatize=True,\n",
        "    lemmatize_method='wordnet')\n",
        "contractions_re = re.compile('(%s)' % '|'.join(contractions_dict.keys()))\n",
        "\n",
        "#It matches contractions in the text and replaces them with their full forms using the contractions_dict.\n",
        "def expand_contractions(s, contractions_dict=contractions_dict):\n",
        "     def replace(match):\n",
        "        return contractions_dict[match.group(0)]\n",
        "     return contractions_re.sub(replace, s)\n",
        "\n",
        "dfs[\"reviews\"]=dfs[\"reviews\"].str.lower() # Converts all text in the reviews column to lowercase\n",
        "# The code iterates through each review and applies the expand_contractions function to replace contractions with their full forms.\n",
        "for i in range(len(dfs[\"reviews\"])):\n",
        "    dfs.loc[i, \"reviews\"] = expand_contractions(str(dfs.loc[i, \"reviews\"])) # The code iterates through each review and applies the expand_contractions function to replace contractions with their full forms.\n",
        "    \n",
        "dfs[\"reviews\"]=dfs[\"reviews\"].apply(preprocess_text)\n",
        "dfs[\"reviews\"]=dfs[\"reviews\"].apply(remove_tags)\n",
        "dfs[\"reviews\"]=dfs[\"reviews\"].apply(obj.process)"
      ]
    },
    {
      "cell_type": "code",
      "execution_count": 11,
      "metadata": {
        "id": "oJPKxFbYKE-U"
      },
      "outputs": [],
      "source": [
        "dfs[\"len_review\"]=dfs[\"reviews\"].apply(lambda x :len(x.split())) #"
      ]
    },
    {
      "cell_type": "code",
      "execution_count": 12,
      "metadata": {
        "colab": {
          "base_uri": "https://localhost:8080/"
        },
        "id": "QIsASheSLyvV",
        "outputId": "92c80088-b813-4907-faa8-83adff56ea87"
      },
      "outputs": [
        {
          "name": "stdout",
          "output_type": "stream",
          "text": [
            "1732\n"
          ]
        }
      ],
      "source": [
        "c=0\n",
        "for i in dfs[\"len_review\"]:\n",
        "    if 100<i:\n",
        "      c+=1\n",
        "print(c)"
      ]
    },
    {
      "cell_type": "code",
      "execution_count": 13,
      "metadata": {
        "colab": {
          "base_uri": "https://localhost:8080/"
        },
        "id": "u4DzZHgsLzUH",
        "outputId": "04e177ef-a233-4503-fe38-daa16aa8e815"
      },
      "outputs": [
        {
          "name": "stdout",
          "output_type": "stream",
          "text": [
            "<class 'pandas.core.frame.DataFrame'>\n",
            "RangeIndex: 21000 entries, 0 to 20999\n",
            "Data columns (total 7 columns):\n",
            " #   Column            Non-Null Count  Dtype  \n",
            "---  ------            --------------  -----  \n",
            " 0   reviews           21000 non-null  object \n",
            " 1   label             21000 non-null  float32\n",
            " 2   PRODUCT_CATEGORY  21000 non-null  object \n",
            " 3   verify            21000 non-null  object \n",
            " 4   RATING            21000 non-null  int64  \n",
            " 5   title             21000 non-null  object \n",
            " 6   len_review        21000 non-null  int64  \n",
            "dtypes: float32(1), int64(2), object(4)\n",
            "memory usage: 1.0+ MB\n"
          ]
        }
      ],
      "source": [
        "dfs.info()"
      ]
    },
    {
      "cell_type": "code",
      "execution_count": 14,
      "metadata": {
        "colab": {
          "base_uri": "https://localhost:8080/"
        },
        "id": "Dy_Hq6RWL1L3",
        "outputId": "54ba0158-2cef-4ed8-b174-02499f04679d"
      },
      "outputs": [
        {
          "name": "stdout",
          "output_type": "stream",
          "text": [
            "<class 'pandas.core.frame.DataFrame'>\n",
            "RangeIndex: 19242 entries, 0 to 19241\n",
            "Data columns (total 7 columns):\n",
            " #   Column            Non-Null Count  Dtype  \n",
            "---  ------            --------------  -----  \n",
            " 0   reviews           19242 non-null  object \n",
            " 1   label             19242 non-null  float32\n",
            " 2   PRODUCT_CATEGORY  19242 non-null  object \n",
            " 3   verify            19242 non-null  object \n",
            " 4   RATING            19242 non-null  int64  \n",
            " 5   title             19242 non-null  object \n",
            " 6   len_review        19242 non-null  int64  \n",
            "dtypes: float32(1), int64(2), object(4)\n",
            "memory usage: 977.3+ KB\n"
          ]
        }
      ],
      "source": [
        "dfse = dfs[dfs[\"len_review\"] < 100]  # len_review should be <100 -> result stored in dfse\n",
        "dfse.reset_index(drop=True, inplace=True)  # drop->odd index not added, inplace-> Modify the dfse without creating a copy\n",
        "dfse.loc[:, \"label\"] = dfse[\"label\"].astype(np.int64)  # Changes the data type of label into int64\n",
        "dfse.info()  # Display the basic info of dfse\n"
      ]
    },
    {
      "cell_type": "code",
      "execution_count": 15,
      "metadata": {
        "id": "CZyI_w6gMAs0"
      },
      "outputs": [],
      "source": [
        "from sklearn import model_selection #provides tools for splitting data into training and testing sets, as well as techniques like cross-validation\n",
        "from sklearn.feature_extraction.text import TfidfVectorizer #converts text data into a format that machine learning models can understand \n",
        "from sklearn import  svm\n",
        "from sklearn.metrics import accuracy_score #calculate the accuracy of a  model's predictions by comparing the predicted labels with the true labels.\n",
        "import scipy as sp #used for sparse matrices (efficient storage for matrices with a large number of zeros)."
      ]
    },
    {
      "cell_type": "code",
      "execution_count": 16,
      "metadata": {
        "id": "x3h-5imBRbz2"
      },
      "outputs": [],
      "source": [
        "Train_X, Test_X, Train_Y, Test_Y = model_selection.train_test_split(dfse[[\"reviews\",\"title\",\"verify\"]],dfse[\"label\"],test_size=0.2)"
      ]
    },
    {
      "cell_type": "code",
      "execution_count": 17,
      "metadata": {
        "id": "ZOPWjrW7MLhC"
      },
      "outputs": [],
      "source": [
        "Tfidf_vect = TfidfVectorizer(max_features=5000,ngram_range=(2,2))\n",
        "Trained_Tfidf_vect = Tfidf_vect.fit(Train_X[\"reviews\"].values)\n",
        "\n",
        "Train_X_Tfidf = Trained_Tfidf_vect.transform(Train_X[\"reviews\"].values)\n",
        "Test_X_Tfidf = Trained_Tfidf_vect.transform(Test_X[\"reviews\"].values)"
      ]
    },
    {
      "cell_type": "code",
      "execution_count": 18,
      "metadata": {
        "colab": {
          "base_uri": "https://localhost:8080/"
        },
        "id": "boowdf0GMMUU",
        "outputId": "4baf6c0c-9e53-442a-cd5e-f85010ade2b1"
      },
      "outputs": [
        {
          "name": "stdout",
          "output_type": "stream",
          "text": [
            "(15393,) \n",
            "\n"
          ]
        }
      ],
      "source": [
        "print (Train_X['reviews'].shape, '\\n')"
      ]
    },
    {
      "cell_type": "code",
      "execution_count": 19,
      "metadata": {
        "colab": {
          "base_uri": "https://localhost:8080/"
        },
        "id": "Ky4309z-MPdb",
        "outputId": "7d2d60ae-94c9-4a8d-86c8-470e77b90b42"
      },
      "outputs": [
        {
          "name": "stdout",
          "output_type": "stream",
          "text": [
            "sample vp column: [['1'], ['0'], ['0'], ['0']]\n",
            "(15393, 1)\n"
          ]
        }
      ],
      "source": [
        "Train_VP_Column = [ [vp] for vp in Train_X[\"verify\"].values ] # f Train_X[\"verify\"] contains [0, 1, 0, 1], the output Train_VP_Column will be [[0], [1], [0], [1]].\n",
        "print (\"sample vp column:\", Train_VP_Column[:4]) # Show the first four rows of T_V_C\n",
        "Train_VP_Column = np.array(Train_VP_Column) # Convert list of lists(T_V_C) into a NumPy array, which is more efficient for use in machine learning models\n",
        "print (Train_VP_Column.shape) #This prints the shape of the Train_VP_Column NumPy array"
      ]
    },
    {
      "cell_type": "code",
      "execution_count": 20,
      "metadata": {
        "colab": {
          "base_uri": "https://localhost:8080/"
        },
        "id": "yHOCvIeXMP_D",
        "outputId": "f173bbce-cfd7-4ffe-9067-5696cda74813"
      },
      "outputs": [
        {
          "name": "stdout",
          "output_type": "stream",
          "text": [
            "(15393, 5001)\n"
          ]
        }
      ],
      "source": [
        "#sp.sparse.hstack horizontally stacks (i.e., combines) these two matrices (TF-IDF and \"verify\" column) into a new sparse matrix.\n",
        "New_Train_X_Tfidf = sp.sparse.hstack((Train_X_Tfidf,Train_VP_Column.astype(float)))\n",
        "print (New_Train_X_Tfidf.shape)"
      ]
    },
    {
      "cell_type": "code",
      "execution_count": 21,
      "metadata": {
        "id": "Rd-VTO2xMRpf"
      },
      "outputs": [],
      "source": [
        "Test_VP_Column = [ [vp] for vp in Test_X[\"verify\"].values ] \n",
        "Test_VP_Column = np.array(Test_VP_Column)\n",
        "New_Test_X_Tfidf = hstack((Test_X_Tfidf, Test_VP_Column.astype(float)))"
      ]
    },
    {
      "cell_type": "code",
      "execution_count": 22,
      "metadata": {
        "colab": {
          "base_uri": "https://localhost:8080/"
        },
        "id": "kKxyUUm_D_aD",
        "outputId": "9df20596-83d6-4afa-d641-6865f4c8a494"
      },
      "outputs": [
        {
          "name": "stdout",
          "output_type": "stream",
          "text": [
            "(3849, 5000)\n",
            "(3849, 1)\n",
            "(3849, 5001)\n"
          ]
        }
      ],
      "source": [
        "print(Test_X_Tfidf.shape)\n",
        "print(Test_VP_Column.shape)\n",
        "print(New_Test_X_Tfidf.shape)\n",
        "#Shape -> provides a quick way to check how many rows and columns (or features and samples in the context of machine learning) are present in the dataset or matrix you're working with"
      ]
    },
    {
      "cell_type": "code",
      "execution_count": 23,
      "metadata": {
        "colab": {
          "base_uri": "https://localhost:8080/"
        },
        "id": "AwJ3lZCUMT1C",
        "outputId": "badc17a0-636d-45aa-a181-93f555816778"
      },
      "outputs": [
        {
          "name": "stdout",
          "output_type": "stream",
          "text": [
            "SVM Accuracy Score: 80.9041309431021\n"
          ]
        }
      ],
      "source": [
        "svmmodel= svm.SVC(C=1.0, kernel='linear', degree=3, gamma='auto')\n",
        "svmmodel.fit(New_Train_X_Tfidf, Train_Y)\n",
        "\n",
        "predictions_SVM = svmmodel.predict(New_Test_X_Tfidf)\n",
        "print(\"SVM Accuracy Score:\", accuracy_score(predictions_SVM, Test_Y)*100)"
      ]
    },
    {
      "cell_type": "code",
      "execution_count": 30,
      "metadata": {
        "colab": {
          "base_uri": "https://localhost:8080/"
        },
        "id": "kVtTL02X_MXY",
        "outputId": "3db85d7f-fafa-475b-cda1-3a58978014df"
      },
      "outputs": [
        {
          "name": "stdout",
          "output_type": "stream",
          "text": [
            "True Review\n",
            "True Review\n",
            "Fake Review\n"
          ]
        }
      ],
      "source": [
        "def testing(text, verify):\n",
        "    text = text.lower()\n",
        "    \n",
        "    # Convert verification status to match the earlier data processing\n",
        "    dftext = pd.DataFrame({'review': [text], 'verify': [verify]})\n",
        "    dftext[\"verify\"] = dftext[\"verify\"].replace(['N', 'Y'], ['0', '1'])\n",
        "    \n",
        "    # Text preprocessing (uncomment these if you want to preprocess the input)\n",
        "    # Apply the preprocessing steps directly to the 'text' string\n",
        "    text = preprocess_text(text)  # Preprocess the review text\n",
        "    text = remove_tags(text)  # Remove HTML tags if any\n",
        "    text = obj.process(text)  # Apply any other necessary text processing\n",
        "    \n",
        "    # Recreate dftext with the processed text\n",
        "    dftext = pd.DataFrame({'review': [text], 'verify': [verify]})\n",
        "    dftext[\"verify\"] = dftext[\"verify\"].replace(['N', 'Y'], ['0', '1'])\n",
        "    \n",
        "    # Transform the input text using the pre-fitted Tfidf vectorizer\n",
        "    tf_text = Tfidf_vect.transform(dftext['review'])\n",
        "    \n",
        "    # Combine the text with the verify column\n",
        "    text_with_review = sp.sparse.hstack((tf_text, dftext['verify'].astype(int)))\n",
        "    \n",
        "    # Prediction using the trained SVM model\n",
        "    prediction = svmmodel.predict(text_with_review)\n",
        "    \n",
        "    for i in prediction:\n",
        "        if i == 1:\n",
        "            print(\"True Review\")\n",
        "        elif i == 0:\n",
        "            print(\"Fake Review\")\n",
        "\n",
        "# For a verified review:\n",
        "testing(\"These earphones are horrible. They stopped working after two weeks, and customer service never responded. Don’t waste your money!\", 'Y')  # The model will classify whether it's fake or true.\n",
        "\n",
        "# For a non-verified review:\n",
        "testing(\"This is the worst product I have ever bought, don't recommend!\", 'N')  # Again, the model predicts if it's fake or true.\n",
        "\n",
        "testing(\"This Wi-Fi Adapter is awesome. I love it\", 'N')"
      ]
    },
    {
      "cell_type": "code",
      "execution_count": 27,
      "metadata": {
        "id": "vEOi0RQlLAYv"
      },
      "outputs": [],
      "source": []
    }
  ],
  "metadata": {
    "colab": {
      "authorship_tag": "ABX9TyO6UV+mzKVYpXweO3GJ6GvB",
      "collapsed_sections": [],
      "include_colab_link": true,
      "name": "fake-review-detection.ipynb",
      "provenance": []
    },
    "kernelspec": {
      "display_name": "Python 3",
      "name": "python3"
    },
    "language_info": {
      "codemirror_mode": {
        "name": "ipython",
        "version": 3
      },
      "file_extension": ".py",
      "mimetype": "text/x-python",
      "name": "python",
      "nbconvert_exporter": "python",
      "pygments_lexer": "ipython3",
      "version": "3.13.1"
    }
  },
  "nbformat": 4,
  "nbformat_minor": 0
}
